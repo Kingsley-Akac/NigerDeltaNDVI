{
  "nbformat": 4,
  "nbformat_minor": 0,
  "metadata": {
    "colab": {
      "provenance": [],
      "authorship_tag": "ABX9TyOg10R4F5nB0++ozQ4bBcC9",
      "include_colab_link": true
    },
    "kernelspec": {
      "name": "python3",
      "display_name": "Python 3"
    },
    "language_info": {
      "name": "python"
    }
  },
  "cells": [
    {
      "cell_type": "markdown",
      "metadata": {
        "id": "view-in-github",
        "colab_type": "text"
      },
      "source": [
        "<a href=\"https://colab.research.google.com/github/Kingsley-Akac/NigerDeltaNDVI/blob/main/Temporal_Indices_NDP.ipynb\" target=\"_parent\"><img src=\"https://colab.research.google.com/assets/colab-badge.svg\" alt=\"Open In Colab\"/></a>"
      ]
    },
    {
      "cell_type": "code",
      "execution_count": 22,
      "metadata": {
        "id": "Ep_dougtftBX",
        "colab": {
          "base_uri": "https://localhost:8080/"
        },
        "outputId": "759fef66-916c-4593-f673-3e824b36c174"
      },
      "outputs": [
        {
          "output_type": "stream",
          "name": "stdout",
          "text": [
            "Extraction complete! Saved to /content/drive/MyDrive/NDP_NDVI/NDVI_VegIndex/By Region/NDVI_2015\n"
          ]
        }
      ],
      "source": [
        "import geopandas as gpd\n",
        "import rasterio\n",
        "from rasterio.sample import sample_gen\n",
        "from shapely.geometry import Point\n",
        "\n",
        "# --- Input files ---\n",
        "raster_file = \"/content/drive/MyDrive/NDP_NDVI/NDVI_Landsat8/NDVI_Landsat8_2015.tif\"     # Replace with your raster path\n",
        "vector_file = \"/content/Shapefile/NDP_Temp_Point.geojson\"     # Replace with your point file path (can be .geojson too)\n",
        "output_file = \"/content/drive/MyDrive/NDP_NDVI/NDVI_VegIndex/By Region/NDVI_2015\"\n",
        "\n",
        "# --- Load vector data ---\n",
        "points = gpd.read_file(vector_file)\n",
        "\n",
        "# --- Open raster ---\n",
        "with rasterio.open(raster_file) as src:\n",
        "    # Extract raster values at each point\n",
        "    coords = [(x,y) for x, y in zip(points.geometry.x, points.geometry.y)]\n",
        "    values = list(src.sample(coords))  # returns list of arrays\n",
        "\n",
        "    # Handle single-band vs multi-band rasters\n",
        "    if src.count == 1:\n",
        "        points[\"value\"] = [val[0] for val in values]\n",
        "    else:\n",
        "        for i in range(src.count):\n",
        "            points[f\"band_{i+1}\"] = [val[i] for val in values]\n",
        "\n",
        "# --- Save as GeoJSON ---\n",
        "points.to_file(output_file, driver=\"GeoJSON\")\n",
        "\n",
        "print(f\"Extraction complete! Saved to {output_file}\")\n"
      ]
    },
    {
      "cell_type": "code",
      "metadata": {
        "colab": {
          "base_uri": "https://localhost:8080/"
        },
        "id": "a8eed1cf",
        "outputId": "e01cb4e3-2891-4abb-cca6-af4f5560e4c2"
      },
      "source": [
        "%pip install rasterio"
      ],
      "execution_count": null,
      "outputs": [
        {
          "output_type": "stream",
          "name": "stdout",
          "text": [
            "Requirement already satisfied: rasterio in /usr/local/lib/python3.12/dist-packages (1.4.3)\n",
            "Requirement already satisfied: affine in /usr/local/lib/python3.12/dist-packages (from rasterio) (2.4.0)\n",
            "Requirement already satisfied: attrs in /usr/local/lib/python3.12/dist-packages (from rasterio) (25.3.0)\n",
            "Requirement already satisfied: certifi in /usr/local/lib/python3.12/dist-packages (from rasterio) (2025.8.3)\n",
            "Requirement already satisfied: click>=4.0 in /usr/local/lib/python3.12/dist-packages (from rasterio) (8.2.1)\n",
            "Requirement already satisfied: cligj>=0.5 in /usr/local/lib/python3.12/dist-packages (from rasterio) (0.7.2)\n",
            "Requirement already satisfied: numpy>=1.24 in /usr/local/lib/python3.12/dist-packages (from rasterio) (2.0.2)\n",
            "Requirement already satisfied: click-plugins in /usr/local/lib/python3.12/dist-packages (from rasterio) (1.1.1.2)\n",
            "Requirement already satisfied: pyparsing in /usr/local/lib/python3.12/dist-packages (from rasterio) (3.2.3)\n"
          ]
        }
      ]
    }
  ]
}